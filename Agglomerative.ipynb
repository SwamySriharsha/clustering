{
 "cells": [
  {
   "cell_type": "code",
   "execution_count": 2,
   "metadata": {
    "colab": {
     "base_uri": "https://localhost:8080/",
     "height": 153
    },
    "colab_type": "code",
    "id": "imB0rSYwpve5",
    "outputId": "70a1d659-0f66-4899-b840-5b51fa6f0ffa"
   },
   "outputs": [
    {
     "name": "stdout",
     "output_type": "stream",
     "text": [
      "    x1   x2\n",
      "0  1.0  1.0\n",
      "1  1.5  1.5\n",
      "2  5.0  5.0\n",
      "3  3.0  4.0\n",
      "4  4.0  4.0\n",
      "5  3.0  3.5\n",
      "(6, 2)\n"
     ]
    }
   ],
   "source": [
    "import numpy as np\n",
    "import pandas as pd\n",
    "import math\n",
    "import matplotlib.pyplot as plt\n",
    "\n",
    "d = {'x1': [1, 1.5, 5, 3, 4, 3], 'x2': [1, 1.5, 5, 4, 4, 3.5]}\n",
    "df = pd.DataFrame(data=d)\n",
    "\n",
    "print(df)\n",
    "print(df.shape)"
   ]
  },
  {
   "cell_type": "code",
   "execution_count": 3,
   "metadata": {
    "colab": {
     "base_uri": "https://localhost:8080/",
     "height": 378
    },
    "colab_type": "code",
    "id": "BqwIxgdYtcUU",
    "outputId": "088f2ce6-c343-4652-f063-5cbf00cb634a"
   },
   "outputs": [
    {
     "data": {
      "text/plain": [
       "<matplotlib.axes._subplots.AxesSubplot at 0x7f0c6199ca90>"
      ]
     },
     "execution_count": 3,
     "metadata": {},
     "output_type": "execute_result"
    },
    {
     "data": {
      "image/png": "[encoded data removed]",
      "text/plain": [
       "<Figure size 432x288 with 1 Axes>"
      ]
     },
     "metadata": {},
     "output_type": "display_data"
    }
   ],
   "source": [
    "df.plot(kind=\"scatter\", x=\"x1\", y=\"x2\")\n"
   ]
  },
  {
   "cell_type": "code",
   "execution_count": 6,
   "metadata": {
    "colab": {
     "base_uri": "https://localhost:8080/",
     "height": 306
    },
    "colab_type": "code",
    "id": "OezI2YFoyHiw",
    "outputId": "aa2f61a9-86c4-4bc3-ec18-073eac59b35f"
   },
   "outputs": [
    {
     "name": "stdout",
     "output_type": "stream",
     "text": [
      "[[0.0, 0.71, 5.66, 3.61, 4.24, 3.2], [0.71, 0.0, 4.95, 2.92, 3.54, 2.5], [5.66, 4.95, 0.0, 2.24, 1.41, 2.5], [3.61, 2.92, 2.24, 0.0, 1.0, 0.5], [4.24, 3.54, 1.41, 1.0, 0.0, 1.12], [3.2, 2.5, 2.5, 0.5, 1.12, 0.0]]\n",
      "6\n",
      "min=0.5,i=3,j=5\n",
      "[[0.0, 0.71, 5.66, 3.2, 4.24], [0.71, 0.0, 4.95, 2.5, 3.54], [5.66, 4.95, 0.0, 2.24, 1.41], [3.2, 2.5, 2.24, 0.0, 1.0], [4.24, 3.54, 1.41, 1.0, 0.0]]\n",
      "5\n",
      "min=0.71,i=0,j=1\n",
      "[[0.0, 4.95, 2.5, 3.54], [4.95, 0.0, 2.24, 1.41], [2.5, 2.24, 0.0, 1.0], [3.54, 1.41, 1.0, 0.0]]\n",
      "4\n",
      "min=1.0,i=2,j=3\n",
      "[[0.0, 4.95, 2.5], [4.95, 0.0, 1.41], [2.5, 1.41, 0.0]]\n",
      "3\n",
      "min=1.41,i=1,j=2\n",
      "[[0.0, 2.5], [2.5, 0.0]]\n",
      "2\n",
      "min=2.5,i=0,j=1\n",
      "[[0.0]]\n",
      "1\n"
     ]
    }
   ],
   "source": [
    "def eucDist(i,j):\n",
    "    ''' returns euclidean distance between pair of points '''\n",
    "    return math.sqrt(sum((df.loc[i]-df.loc[j])**2))\n",
    "\n",
    "def calDistMatrix(df,arr):\n",
    "    ''' calculates proximity/distance matrix between every pair of points '''\n",
    "    for i in range(len(df)):\n",
    "        for j in range(len(df)):\n",
    "            distval = round(eucDist(i,j),2)\n",
    "            arr[i][j] = distval\n",
    "def findMin(arr):\n",
    "    ''' find the min distance between every pair (except x,x pairs) of points'''\n",
    "    min = arr[0][1]\n",
    "    ci = 0\n",
    "    cj = 1\n",
    "    for i in range(len(arr)):\n",
    "        for j in range(len(arr[i])):\n",
    "            if i!=j and arr[i][j]<min:\n",
    "                min = arr[i][j]\n",
    "                ci = i\n",
    "                cj = j\n",
    "    print(\"min={},i={},j={}\".format(min,ci,cj))     \n",
    "    return min,ci,cj      \n",
    "        \n",
    "\n",
    "def agglomerative(arr):\n",
    "    print(arr)\n",
    "    noc = len(arr)\n",
    "    print(noc)\n",
    "\n",
    "    if noc == 1:\n",
    "        return\n",
    "  \n",
    "    min,ci,cj = findMin(arr)\n",
    "    \n",
    "    for row in range(noc):\n",
    "        arr[row][ci] = np.minimum(arr[row][ci],arr[row][cj]) #using single link distance measure\n",
    "        del arr[row][cj]\n",
    "        #print(arr)\n",
    "    del arr[cj] \n",
    "    noc = noc-1\n",
    "    for i in range(noc):\n",
    "        for j in range(noc):\n",
    "            if arr[i][j] != arr[j][i]:\n",
    "                lmin = np.minimum(arr[i][j],arr[j][i])\n",
    "                arr[i][j] = lmin\n",
    "                arr[j][i] = lmin\n",
    "    agglomerative(arr)\n",
    "  \n",
    "  \n",
    "arr = [[None for p in range(len(df))] for p in range(len(df))] #create an empty array\n",
    "calDistMatrix(df,arr)  \n",
    "agglomerative(arr)\n",
    "\n",
    "      "
   ]
  }
 ],
 "metadata": {
  "colab": {
   "name": "Agglomerative.ipynb",
   "provenance": [],
   "version": "0.3.2"
  },
  "kernelspec": {
   "display_name": "Python 3",
   "language": "python",
   "name": "python3"
  },
  "language_info": {
   "codemirror_mode": {
    "name": "ipython",
    "version": 3
   },
   "file_extension": ".py",
   "mimetype": "text/x-python",
   "name": "python",
   "nbconvert_exporter": "python",
   "pygments_lexer": "ipython3",
   "version": "3.6.5"
  }
 },
 "nbformat": 4,
 "nbformat_minor": 1
}
