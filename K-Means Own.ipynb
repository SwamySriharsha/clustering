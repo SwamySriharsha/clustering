{
 "cells": [
  {
   "cell_type": "code",
   "execution_count": 228,
   "metadata": {},
   "outputs": [],
   "source": [
    "import pandas as pd\n",
    "import numpy as np\n",
    "import random\n",
    "import math\n",
    "import matplotlib.pyplot as plt"
   ]
  },
  {
   "cell_type": "code",
   "execution_count": 229,
   "metadata": {},
   "outputs": [
    {
     "data": {
      "text/html": [
       "<div>\n",
       "<style scoped>\n",
       "    .dataframe tbody tr th:only-of-type {\n",
       "        vertical-align: middle;\n",
       "    }\n",
       "\n",
       "    .dataframe tbody tr th {\n",
       "        vertical-align: top;\n",
       "    }\n",
       "\n",
       "    .dataframe thead th {\n",
       "        text-align: right;\n",
       "    }\n",
       "</style>\n",
       "<table border=\"1\" class=\"dataframe\">\n",
       "  <thead>\n",
       "    <tr style=\"text-align: right;\">\n",
       "      <th></th>\n",
       "      <th>X1</th>\n",
       "      <th>X2</th>\n",
       "    </tr>\n",
       "  </thead>\n",
       "  <tbody>\n",
       "    <tr>\n",
       "      <th>0</th>\n",
       "      <td>1.0</td>\n",
       "      <td>1.0</td>\n",
       "    </tr>\n",
       "    <tr>\n",
       "      <th>1</th>\n",
       "      <td>1.5</td>\n",
       "      <td>1.5</td>\n",
       "    </tr>\n",
       "    <tr>\n",
       "      <th>2</th>\n",
       "      <td>5.0</td>\n",
       "      <td>5.0</td>\n",
       "    </tr>\n",
       "    <tr>\n",
       "      <th>3</th>\n",
       "      <td>3.0</td>\n",
       "      <td>4.0</td>\n",
       "    </tr>\n",
       "    <tr>\n",
       "      <th>4</th>\n",
       "      <td>4.0</td>\n",
       "      <td>4.0</td>\n",
       "    </tr>\n",
       "    <tr>\n",
       "      <th>5</th>\n",
       "      <td>3.0</td>\n",
       "      <td>3.5</td>\n",
       "    </tr>\n",
       "  </tbody>\n",
       "</table>\n",
       "</div>"
      ],
      "text/plain": [
       "    X1   X2\n",
       "0  1.0  1.0\n",
       "1  1.5  1.5\n",
       "2  5.0  5.0\n",
       "3  3.0  4.0\n",
       "4  4.0  4.0\n",
       "5  3.0  3.5"
      ]
     },
     "execution_count": 229,
     "metadata": {},
     "output_type": "execute_result"
    }
   ],
   "source": [
    "d = {'X1':[1,1.5,5,3,4,3], 'X2':[1,1.5,5,4,4,3.5]}\n",
    "df = pd.DataFrame(data=d)\n",
    "df"
   ]
  },
  {
   "cell_type": "code",
   "execution_count": 230,
   "metadata": {},
   "outputs": [
    {
     "data": {
      "text/plain": [
       "<matplotlib.axes._subplots.AxesSubplot at 0x7fab3ace8080>"
      ]
     },
     "execution_count": 230,
     "metadata": {},
     "output_type": "execute_result"
    },
    {
     "data": {
      "image/png": "[encoded data removed]",
      "text/plain": [
       "<Figure size 432x288 with 1 Axes>"
      ]
     },
     "metadata": {},
     "output_type": "display_data"
    }
   ],
   "source": [
    "df.plot(kind=\"scatter\", x='X1', y='X2')"
   ]
  },
  {
   "cell_type": "code",
   "execution_count": 254,
   "metadata": {},
   "outputs": [
    {
     "name": "stdout",
     "output_type": "stream",
     "text": [
      "random centroids are [(3.0, 4.0), (3.0, 3.5), (4.0, 4.0)]\n",
      "first iter clusters are {(3.0, 4.0): [3], (3.0, 3.5): [0, 1, 5], (4.0, 4.0): [2, 4]}\n",
      "new centroids are [(3.0, 4.0), (1.8333333333333333, 2.0), (4.5, 4.5)]\n",
      "convergence result is [0.0, 1.90029237516523, 0.7071067811865476]\n",
      "False\n",
      "further iter clusters are {(3.0, 4.0): [3, 5], (1.8333333333333333, 2.0): [0, 1], (4.5, 4.5): [2, 4]}\n",
      "convergence result is [0.25, 0.9501461875826149, 0.0]\n",
      "False\n",
      "further iter clusters are {(3.0, 3.75): [3, 5], (1.25, 1.25): [0, 1], (4.5, 4.5): [2, 4]}\n",
      "convergence result is [0.0, 0.0, 0.0]\n",
      "True\n",
      "Final clusterings are {(3.0, 3.75): [3, 5], (1.25, 1.25): [0, 1], (4.5, 4.5): [2, 4]}\n"
     ]
    }
   ],
   "source": [
    "def calDist(a,b):\n",
    "    return math.sqrt(sum((np.array(a)-np.array(b))**2))\n",
    "\n",
    "def calRandomCentroids(k, df):\n",
    "    centroids = []\n",
    "    for i in range(k):\n",
    "        rand = random.randint(0,len(df)-1)\n",
    "        randVal = tuple(df.loc[rand].values)\n",
    "        while randVal in centroids:\n",
    "            rand = random.randint(0,len(df)-1)\n",
    "            randVal = tuple(df.loc[rand].values)\n",
    "        else:\n",
    "            centroids.append(randVal)\n",
    "    return centroids       \n",
    "\n",
    "def calNewCentroids(clusters):\n",
    "    #{(3.0, 4.0): [(3.0, 4.0)], (4.0, 4.0): [(5.0, 5.0), (4.0, 4.0)], (3.0, 3.5): [(1.0, 1.0), (1.5, 1.5), (3.0, 3.5)]}\n",
    "    newcentroids = []\n",
    "    for k in clusters:\n",
    "        sumc = 0\n",
    "        for l in range(len(clusters[k])):\n",
    "            sumc += df.loc[clusters[k][l]]\n",
    "        cent = sumc/len(clusters[k])\n",
    "        newcentroids.append(tuple(cent))\n",
    "    return newcentroids\n",
    "\n",
    "def makeClusters(k, df, centroids):\n",
    "    clusters = {}\n",
    "    for tup in centroids:\n",
    "        clusters[tup] = []\n",
    "    for i in range(len(df)):\n",
    "        pointDists = {}\n",
    "        for tup in centroids:\n",
    "            dist = calDist(tuple(df.loc[i].values),tup)\n",
    "            pointDists[dist] = tup\n",
    "        ncp = pointDists.get(min(pointDists)) \n",
    "        clusters[ncp].append(i) #or i\n",
    "    return clusters    \n",
    "                  \n",
    "\n",
    "def checkConvergence(k,oldcentroids,newcentroids):\n",
    "    result = []\n",
    "    for i in range(k):\n",
    "        rs = calDist(oldcentroids[i],newcentroids[i])\n",
    "        result.append(rs)\n",
    "    print(\"convergence result is {}\".format(result))\n",
    "    count = 0\n",
    "    for i in range(len(result)):\n",
    "        if result[i] <= 0.5:\n",
    "            count = count+1\n",
    "    return True if count == len(result) else False       \n",
    "    \n",
    "    \n",
    "    \n",
    "def kMeans(k, df):\n",
    "    \n",
    "    centroids = calRandomCentroids(k, df)\n",
    "    print(\"random centroids are {}\".format(centroids))\n",
    "    oldcentroids = centroids\n",
    "    \n",
    "    clusters = makeClusters(k, df, oldcentroids)\n",
    "    print(\"first iter clusters are {}\".format(clusters))   \n",
    "    \n",
    "    newcentroids = calNewCentroids(clusters)\n",
    "    print(\"new centroids are {}\".format(newcentroids))\n",
    "    \n",
    "    res = checkConvergence(k,oldcentroids,newcentroids)\n",
    "    print(res)\n",
    "    \n",
    "    while res == False:\n",
    "        oldcentroids = newcentroids\n",
    "        clusters = makeClusters(k, df, oldcentroids)\n",
    "        print(\"further iter clusters are {}\".format(clusters))   \n",
    "        newcentroids = calNewCentroids(clusters)\n",
    "        res = checkConvergence(k,oldcentroids,newcentroids)\n",
    "        print(res)\n",
    "    else:\n",
    "        print(\"Final clusterings are {}\".format(clusters))    \n",
    "    \n",
    "\n",
    "kMeans(3, df)"
   ]
  }
 ],
 "metadata": {
  "kernelspec": {
   "display_name": "Python 3",
   "language": "python",
   "name": "python3"
  },
  "language_info": {
   "codemirror_mode": {
    "name": "ipython",
    "version": 3
   },
   "file_extension": ".py",
   "mimetype": "text/x-python",
   "name": "python",
   "nbconvert_exporter": "python",
   "pygments_lexer": "ipython3",
   "version": "3.6.5"
  }
 },
 "nbformat": 4,
 "nbformat_minor": 2
}
